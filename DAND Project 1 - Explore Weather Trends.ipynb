{
 "cells": [
  {
   "cell_type": "markdown",
   "id": "demanding-breathing",
   "metadata": {},
   "source": [
    "## Introduction"
   ]
  },
  {
   "cell_type": "markdown",
   "id": "reflected-courtesy",
   "metadata": {},
   "source": [
    "The goal for this project is to create a visualisation and prepare a write up describing the similarities and differences between global temperature trends and temperature trends in the closest big city to where I live.\n",
    "\n",
    "I choose to use Python to do the exploratory data analysis of temperature trends. \n",
    "\n",
    "First, import the libraries:"
   ]
  },
  {
   "cell_type": "code",
   "execution_count": 1,
   "id": "front-premium",
   "metadata": {},
   "outputs": [],
   "source": [
    "import pandas as pd\n",
    "import numpy as np\n",
    "import matplotlib.pyplot as plt\n",
    "import statsmodels.stats.api as sms\n",
    "from scipy import stats\n",
    "import seaborn as sns\n",
    "from sklearn.linear_model import LinearRegression\n",
    "from sklearn.model_selection import train_test_split\n",
    "from sklearn.metrics import r2_score\n",
    "import sympy"
   ]
  },
  {
   "cell_type": "markdown",
   "id": "pending-sperm",
   "metadata": {},
   "source": [
    "As I live in the UK and the closest city to me is London, I am interested to see how temperatures in London vary over the years compared against the global average. The SQL query used to retrive this information is below:"
   ]
  },
  {
   "cell_type": "code",
   "execution_count": 2,
   "id": "elect-table",
   "metadata": {},
   "outputs": [],
   "source": [
    "'''\n",
    "SELECT c.year yc, c.avg_temp tc,\n",
    "\t   g.year yg, g.avg_temp tg \n",
    "FROM city_data AS c \n",
    "INNER JOIN global_data AS g \n",
    "ON c.year = g.year \n",
    "WHERE c.city = 'London' and c.country = 'United Kingdom'\n",
    "''';"
   ]
  },
  {
   "cell_type": "markdown",
   "id": "pregnant-september",
   "metadata": {},
   "source": [
    "## Import and Review Data"
   ]
  },
  {
   "cell_type": "markdown",
   "id": "municipal-plane",
   "metadata": {},
   "source": [
    "Import the csv file that was created from the SQL task. \n",
    "\n",
    "Also make some tweaks around the headings of the columns to provide more clarity for the analysis later."
   ]
  },
  {
   "cell_type": "code",
   "execution_count": 3,
   "id": "representative-spare",
   "metadata": {
    "scrolled": true
   },
   "outputs": [
    {
     "data": {
      "text/html": [
       "<div>\n",
       "<style scoped>\n",
       "    .dataframe tbody tr th:only-of-type {\n",
       "        vertical-align: middle;\n",
       "    }\n",
       "\n",
       "    .dataframe tbody tr th {\n",
       "        vertical-align: top;\n",
       "    }\n",
       "\n",
       "    .dataframe thead th {\n",
       "        text-align: right;\n",
       "    }\n",
       "</style>\n",
       "<table border=\"1\" class=\"dataframe\">\n",
       "  <thead>\n",
       "    <tr style=\"text-align: right;\">\n",
       "      <th></th>\n",
       "      <th>year</th>\n",
       "      <th>t_London</th>\n",
       "      <th>t_global</th>\n",
       "    </tr>\n",
       "  </thead>\n",
       "  <tbody>\n",
       "    <tr>\n",
       "      <th>0</th>\n",
       "      <td>1750</td>\n",
       "      <td>10.25</td>\n",
       "      <td>8.72</td>\n",
       "    </tr>\n",
       "    <tr>\n",
       "      <th>1</th>\n",
       "      <td>1751</td>\n",
       "      <td>9.99</td>\n",
       "      <td>7.98</td>\n",
       "    </tr>\n",
       "    <tr>\n",
       "      <th>2</th>\n",
       "      <td>1752</td>\n",
       "      <td>6.54</td>\n",
       "      <td>5.78</td>\n",
       "    </tr>\n",
       "    <tr>\n",
       "      <th>3</th>\n",
       "      <td>1753</td>\n",
       "      <td>9.42</td>\n",
       "      <td>8.39</td>\n",
       "    </tr>\n",
       "    <tr>\n",
       "      <th>4</th>\n",
       "      <td>1754</td>\n",
       "      <td>9.20</td>\n",
       "      <td>8.47</td>\n",
       "    </tr>\n",
       "  </tbody>\n",
       "</table>\n",
       "</div>"
      ],
      "text/plain": [
       "   year  t_London  t_global\n",
       "0  1750     10.25      8.72\n",
       "1  1751      9.99      7.98\n",
       "2  1752      6.54      5.78\n",
       "3  1753      9.42      8.39\n",
       "4  1754      9.20      8.47"
      ]
     },
     "execution_count": 3,
     "metadata": {},
     "output_type": "execute_result"
    }
   ],
   "source": [
    "df = pd.read_csv('Extracted temperatures.csv', \n",
    "                 header=0,\n",
    "                 usecols=[0, 1, 3],\n",
    "                 names=['year', 't_London', 't_global'])\n",
    "df.head()"
   ]
  },
  {
   "cell_type": "markdown",
   "id": "postal-commodity",
   "metadata": {},
   "source": [
    "Take a look at the dataframe: check if the entries are numerical and check for any missing values."
   ]
  },
  {
   "cell_type": "code",
   "execution_count": 4,
   "id": "associate-techno",
   "metadata": {},
   "outputs": [
    {
     "name": "stdout",
     "output_type": "stream",
     "text": [
      "<class 'pandas.core.frame.DataFrame'>\n",
      "RangeIndex: 264 entries, 0 to 263\n",
      "Data columns (total 3 columns):\n",
      " #   Column    Non-Null Count  Dtype  \n",
      "---  ------    --------------  -----  \n",
      " 0   year      264 non-null    int64  \n",
      " 1   t_London  264 non-null    float64\n",
      " 2   t_global  264 non-null    float64\n",
      "dtypes: float64(2), int64(1)\n",
      "memory usage: 6.3 KB\n"
     ]
    }
   ],
   "source": [
    "df.info()"
   ]
  },
  {
   "cell_type": "code",
   "execution_count": 5,
   "id": "outer-algeria",
   "metadata": {},
   "outputs": [
    {
     "data": {
      "text/plain": [
       "(1750, 2013)"
      ]
     },
     "execution_count": 5,
     "metadata": {},
     "output_type": "execute_result"
    }
   ],
   "source": [
    "min_year, max_year = df['year'].min(), df['year'].max()\n",
    "min_year, max_year"
   ]
  },
  {
   "cell_type": "markdown",
   "id": "advisory-current",
   "metadata": {},
   "source": [
    "## Data Pre-processing and Visualisation"
   ]
  },
  {
   "cell_type": "markdown",
   "id": "small-melbourne",
   "metadata": {},
   "source": [
    "Calculate the moving average using .rolling() in pandas - take a moving window of 10 years:"
   ]
  },
  {
   "cell_type": "code",
   "execution_count": 6,
   "id": "widespread-schedule",
   "metadata": {},
   "outputs": [
    {
     "data": {
      "text/html": [
       "<div>\n",
       "<style scoped>\n",
       "    .dataframe tbody tr th:only-of-type {\n",
       "        vertical-align: middle;\n",
       "    }\n",
       "\n",
       "    .dataframe tbody tr th {\n",
       "        vertical-align: top;\n",
       "    }\n",
       "\n",
       "    .dataframe thead th {\n",
       "        text-align: right;\n",
       "    }\n",
       "</style>\n",
       "<table border=\"1\" class=\"dataframe\">\n",
       "  <thead>\n",
       "    <tr style=\"text-align: right;\">\n",
       "      <th></th>\n",
       "      <th>year</th>\n",
       "      <th>t_London</th>\n",
       "      <th>t_global</th>\n",
       "      <th>moving_avg_London</th>\n",
       "      <th>moving_avg_global</th>\n",
       "    </tr>\n",
       "  </thead>\n",
       "  <tbody>\n",
       "    <tr>\n",
       "      <th>0</th>\n",
       "      <td>1750</td>\n",
       "      <td>10.25</td>\n",
       "      <td>8.72</td>\n",
       "      <td>NaN</td>\n",
       "      <td>NaN</td>\n",
       "    </tr>\n",
       "    <tr>\n",
       "      <th>1</th>\n",
       "      <td>1751</td>\n",
       "      <td>9.99</td>\n",
       "      <td>7.98</td>\n",
       "      <td>NaN</td>\n",
       "      <td>NaN</td>\n",
       "    </tr>\n",
       "    <tr>\n",
       "      <th>2</th>\n",
       "      <td>1752</td>\n",
       "      <td>6.54</td>\n",
       "      <td>5.78</td>\n",
       "      <td>NaN</td>\n",
       "      <td>NaN</td>\n",
       "    </tr>\n",
       "    <tr>\n",
       "      <th>3</th>\n",
       "      <td>1753</td>\n",
       "      <td>9.42</td>\n",
       "      <td>8.39</td>\n",
       "      <td>NaN</td>\n",
       "      <td>NaN</td>\n",
       "    </tr>\n",
       "    <tr>\n",
       "      <th>4</th>\n",
       "      <td>1754</td>\n",
       "      <td>9.20</td>\n",
       "      <td>8.47</td>\n",
       "      <td>NaN</td>\n",
       "      <td>NaN</td>\n",
       "    </tr>\n",
       "    <tr>\n",
       "      <th>5</th>\n",
       "      <td>1755</td>\n",
       "      <td>8.95</td>\n",
       "      <td>8.36</td>\n",
       "      <td>NaN</td>\n",
       "      <td>NaN</td>\n",
       "    </tr>\n",
       "    <tr>\n",
       "      <th>6</th>\n",
       "      <td>1756</td>\n",
       "      <td>9.42</td>\n",
       "      <td>8.85</td>\n",
       "      <td>NaN</td>\n",
       "      <td>NaN</td>\n",
       "    </tr>\n",
       "    <tr>\n",
       "      <th>7</th>\n",
       "      <td>1757</td>\n",
       "      <td>9.34</td>\n",
       "      <td>9.02</td>\n",
       "      <td>NaN</td>\n",
       "      <td>NaN</td>\n",
       "    </tr>\n",
       "    <tr>\n",
       "      <th>8</th>\n",
       "      <td>1758</td>\n",
       "      <td>8.85</td>\n",
       "      <td>6.74</td>\n",
       "      <td>NaN</td>\n",
       "      <td>NaN</td>\n",
       "    </tr>\n",
       "    <tr>\n",
       "      <th>9</th>\n",
       "      <td>1759</td>\n",
       "      <td>9.80</td>\n",
       "      <td>7.99</td>\n",
       "      <td>9.176</td>\n",
       "      <td>8.03</td>\n",
       "    </tr>\n",
       "  </tbody>\n",
       "</table>\n",
       "</div>"
      ],
      "text/plain": [
       "   year  t_London  t_global  moving_avg_London  moving_avg_global\n",
       "0  1750     10.25      8.72                NaN                NaN\n",
       "1  1751      9.99      7.98                NaN                NaN\n",
       "2  1752      6.54      5.78                NaN                NaN\n",
       "3  1753      9.42      8.39                NaN                NaN\n",
       "4  1754      9.20      8.47                NaN                NaN\n",
       "5  1755      8.95      8.36                NaN                NaN\n",
       "6  1756      9.42      8.85                NaN                NaN\n",
       "7  1757      9.34      9.02                NaN                NaN\n",
       "8  1758      8.85      6.74                NaN                NaN\n",
       "9  1759      9.80      7.99              9.176               8.03"
      ]
     },
     "execution_count": 6,
     "metadata": {},
     "output_type": "execute_result"
    }
   ],
   "source": [
    "window = 10\n",
    "\n",
    "df['moving_avg_London'] = df['t_London'].rolling(window).mean()\n",
    "df['moving_avg_global'] = df['t_global'].rolling(window).mean()\n",
    "\n",
    "df.head(10)"
   ]
  },
  {
   "cell_type": "markdown",
   "id": "developing-xerox",
   "metadata": {},
   "source": [
    "Drop the rows with NaN - the first years on their own will not be used for plot"
   ]
  },
  {
   "cell_type": "code",
   "execution_count": 7,
   "id": "changed-marshall",
   "metadata": {},
   "outputs": [
    {
     "data": {
      "text/html": [
       "<div>\n",
       "<style scoped>\n",
       "    .dataframe tbody tr th:only-of-type {\n",
       "        vertical-align: middle;\n",
       "    }\n",
       "\n",
       "    .dataframe tbody tr th {\n",
       "        vertical-align: top;\n",
       "    }\n",
       "\n",
       "    .dataframe thead th {\n",
       "        text-align: right;\n",
       "    }\n",
       "</style>\n",
       "<table border=\"1\" class=\"dataframe\">\n",
       "  <thead>\n",
       "    <tr style=\"text-align: right;\">\n",
       "      <th></th>\n",
       "      <th>year</th>\n",
       "      <th>t_London</th>\n",
       "      <th>t_global</th>\n",
       "      <th>moving_avg_London</th>\n",
       "      <th>moving_avg_global</th>\n",
       "    </tr>\n",
       "  </thead>\n",
       "  <tbody>\n",
       "    <tr>\n",
       "      <th>0</th>\n",
       "      <td>1759</td>\n",
       "      <td>9.80</td>\n",
       "      <td>7.99</td>\n",
       "      <td>9.176</td>\n",
       "      <td>8.030</td>\n",
       "    </tr>\n",
       "    <tr>\n",
       "      <th>1</th>\n",
       "      <td>1760</td>\n",
       "      <td>9.26</td>\n",
       "      <td>7.19</td>\n",
       "      <td>9.077</td>\n",
       "      <td>7.877</td>\n",
       "    </tr>\n",
       "    <tr>\n",
       "      <th>2</th>\n",
       "      <td>1761</td>\n",
       "      <td>9.69</td>\n",
       "      <td>8.77</td>\n",
       "      <td>9.047</td>\n",
       "      <td>7.956</td>\n",
       "    </tr>\n",
       "    <tr>\n",
       "      <th>3</th>\n",
       "      <td>1762</td>\n",
       "      <td>8.99</td>\n",
       "      <td>8.61</td>\n",
       "      <td>9.292</td>\n",
       "      <td>8.239</td>\n",
       "    </tr>\n",
       "    <tr>\n",
       "      <th>4</th>\n",
       "      <td>1763</td>\n",
       "      <td>8.75</td>\n",
       "      <td>7.50</td>\n",
       "      <td>9.225</td>\n",
       "      <td>8.150</td>\n",
       "    </tr>\n",
       "  </tbody>\n",
       "</table>\n",
       "</div>"
      ],
      "text/plain": [
       "   year  t_London  t_global  moving_avg_London  moving_avg_global\n",
       "0  1759      9.80      7.99              9.176              8.030\n",
       "1  1760      9.26      7.19              9.077              7.877\n",
       "2  1761      9.69      8.77              9.047              7.956\n",
       "3  1762      8.99      8.61              9.292              8.239\n",
       "4  1763      8.75      7.50              9.225              8.150"
      ]
     },
     "execution_count": 7,
     "metadata": {},
     "output_type": "execute_result"
    }
   ],
   "source": [
    "df.dropna(inplace=True)\n",
    "df.reset_index(inplace=True, drop=True)\n",
    "df.head()"
   ]
  },
  {
   "cell_type": "markdown",
   "id": "smoking-former",
   "metadata": {},
   "source": [
    "Now make a line plot to compare the moving average temperatures"
   ]
  },
  {
   "cell_type": "code",
   "execution_count": 8,
   "id": "contained-brand",
   "metadata": {},
   "outputs": [
    {
     "data": {
      "image/png": "[encoded data removed]",
      "text/plain": [
       "<Figure size 720x576 with 1 Axes>"
      ]
     },
     "metadata": {
      "needs_background": "light"
     },
     "output_type": "display_data"
    }
   ],
   "source": [
    "plt.figure(figsize=(10,8))\n",
    "\n",
    "plt.plot(df['year'], df['moving_avg_London'], c='r', label='London')\n",
    "plt.plot(df['year'], df['moving_avg_global'], c='g', label='Global')\n",
    "\n",
    "plt.title('10 Year Moving Average Temperature for London vs. Global - Line Chart')\n",
    "plt.xlabel('Year')\n",
    "plt.xticks(np.arange(1750, 2015, 20), rotation=45)\n",
    "plt.ylabel('Temperature (DegC)')\n",
    "plt.legend(loc='best')\n",
    "\n",
    "plt.show()"
   ]
  },
  {
   "cell_type": "markdown",
   "id": "dangerous-telephone",
   "metadata": {},
   "source": [
    "London is surprisingly 'hot' given that its temperatures are clearly above the global average. This is definitely not my impression of the British cold weather!\n",
    "\n",
    "I also notice that there are some interesting peaks at around 1780s - this may be attributed to the Industrial Revolution.\n",
    "\n",
    "On the other hand, there are also some eye-catching troughs over the first half of 19th century - this may be attributed to the Cholera pandemic. In those years there were a few massive waves of contagious disease including the influenza epidemics. The diseases significantly reduced human activities and hence lowered the global temperatures (much similar to the most recent Coronavirus outbreak).\n",
    "\n",
    "Another observation from the plot is that the temperature is trending upwards as time goes for both London and the global average."
   ]
  },
  {
   "cell_type": "markdown",
   "id": "elect-nation",
   "metadata": {},
   "source": [
    "## Insight - Statistical Analysis"
   ]
  },
  {
   "cell_type": "markdown",
   "id": "rental-carnival",
   "metadata": {},
   "source": [
    "One might ask how much hotter is London than the global average? Let's first have a look at some statistics."
   ]
  },
  {
   "cell_type": "code",
   "execution_count": 9,
   "id": "tight-cyprus",
   "metadata": {},
   "outputs": [
    {
     "data": {
      "text/html": [
       "<div>\n",
       "<style scoped>\n",
       "    .dataframe tbody tr th:only-of-type {\n",
       "        vertical-align: middle;\n",
       "    }\n",
       "\n",
       "    .dataframe tbody tr th {\n",
       "        vertical-align: top;\n",
       "    }\n",
       "\n",
       "    .dataframe thead th {\n",
       "        text-align: right;\n",
       "    }\n",
       "</style>\n",
       "<table border=\"1\" class=\"dataframe\">\n",
       "  <thead>\n",
       "    <tr style=\"text-align: right;\">\n",
       "      <th></th>\n",
       "      <th>t_London</th>\n",
       "      <th>t_global</th>\n",
       "      <th>moving_avg_London</th>\n",
       "      <th>moving_avg_global</th>\n",
       "    </tr>\n",
       "  </thead>\n",
       "  <tbody>\n",
       "    <tr>\n",
       "      <th>count</th>\n",
       "      <td>255.000000</td>\n",
       "      <td>255.000000</td>\n",
       "      <td>255.000000</td>\n",
       "      <td>255.000000</td>\n",
       "    </tr>\n",
       "    <tr>\n",
       "      <th>mean</th>\n",
       "      <td>9.472196</td>\n",
       "      <td>8.370863</td>\n",
       "      <td>9.450353</td>\n",
       "      <td>8.344286</td>\n",
       "    </tr>\n",
       "    <tr>\n",
       "      <th>std</th>\n",
       "      <td>0.650204</td>\n",
       "      <td>0.549648</td>\n",
       "      <td>0.370030</td>\n",
       "      <td>0.440769</td>\n",
       "    </tr>\n",
       "    <tr>\n",
       "      <th>min</th>\n",
       "      <td>7.620000</td>\n",
       "      <td>6.780000</td>\n",
       "      <td>8.802000</td>\n",
       "      <td>7.203000</td>\n",
       "    </tr>\n",
       "    <tr>\n",
       "      <th>25%</th>\n",
       "      <td>9.060000</td>\n",
       "      <td>8.085000</td>\n",
       "      <td>9.203000</td>\n",
       "      <td>8.053000</td>\n",
       "    </tr>\n",
       "    <tr>\n",
       "      <th>50%</th>\n",
       "      <td>9.430000</td>\n",
       "      <td>8.360000</td>\n",
       "      <td>9.415000</td>\n",
       "      <td>8.274000</td>\n",
       "    </tr>\n",
       "    <tr>\n",
       "      <th>75%</th>\n",
       "      <td>9.880000</td>\n",
       "      <td>8.700000</td>\n",
       "      <td>9.620500</td>\n",
       "      <td>8.636500</td>\n",
       "    </tr>\n",
       "    <tr>\n",
       "      <th>max</th>\n",
       "      <td>11.190000</td>\n",
       "      <td>9.730000</td>\n",
       "      <td>10.701000</td>\n",
       "      <td>9.556000</td>\n",
       "    </tr>\n",
       "  </tbody>\n",
       "</table>\n",
       "</div>"
      ],
      "text/plain": [
       "         t_London    t_global  moving_avg_London  moving_avg_global\n",
       "count  255.000000  255.000000         255.000000         255.000000\n",
       "mean     9.472196    8.370863           9.450353           8.344286\n",
       "std      0.650204    0.549648           0.370030           0.440769\n",
       "min      7.620000    6.780000           8.802000           7.203000\n",
       "25%      9.060000    8.085000           9.203000           8.053000\n",
       "50%      9.430000    8.360000           9.415000           8.274000\n",
       "75%      9.880000    8.700000           9.620500           8.636500\n",
       "max     11.190000    9.730000          10.701000           9.556000"
      ]
     },
     "execution_count": 9,
     "metadata": {},
     "output_type": "execute_result"
    }
   ],
   "source": [
    "df[['t_London', 't_global', 'moving_avg_London', 'moving_avg_global']].describe()"
   ]
  },
  {
   "cell_type": "code",
   "execution_count": 10,
   "id": "capable-azerbaijan",
   "metadata": {},
   "outputs": [
    {
     "data": {
      "text/plain": [
       "1.1060666666666599"
      ]
     },
     "execution_count": 10,
     "metadata": {},
     "output_type": "execute_result"
    }
   ],
   "source": [
    "xbar_London = df['moving_avg_London'].mean()\n",
    "xbar_global = df['moving_avg_global'].mean()\n",
    "mean_diff = xbar_London - xbar_global\n",
    "mean_diff"
   ]
  },
  {
   "cell_type": "code",
   "execution_count": 11,
   "id": "sublime-burlington",
   "metadata": {},
   "outputs": [
    {
     "data": {
      "text/plain": [
       "0.13255377755260878"
      ]
     },
     "execution_count": 11,
     "metadata": {},
     "output_type": "execute_result"
    }
   ],
   "source": [
    "percent_hotter = (xbar_London - xbar_global) / xbar_global\n",
    "percent_hotter"
   ]
  },
  {
   "cell_type": "markdown",
   "id": "trained-abuse",
   "metadata": {},
   "source": [
    "So the moving average temperatures of London is roughly 13% (~1.1 DegC) higher than that across the globe between 1750 and 2013. But this is for a 264-year sample of all time. Let's just see the estimated spread of sample means across all time for London and the global average - take a 95% confidence interval of the difference between means."
   ]
  },
  {
   "cell_type": "code",
   "execution_count": 12,
   "id": "representative-kidney",
   "metadata": {},
   "outputs": [
    {
     "data": {
      "text/plain": [
       "(1.0352574724952124, 1.1768758608381145)"
      ]
     },
     "execution_count": 12,
     "metadata": {},
     "output_type": "execute_result"
    }
   ],
   "source": [
    "cm = sms.CompareMeans(sms.DescrStatsW(df['moving_avg_London']), \n",
    "                      sms.DescrStatsW(df['moving_avg_global']))\n",
    "lcd, ucd = cm.tconfint_diff(usevar='unequal')\n",
    "lcd, ucd"
   ]
  },
  {
   "cell_type": "markdown",
   "id": "virgin-reservoir",
   "metadata": {},
   "source": [
    "Therefore, supported by evidence from the plot and from the calculated statistics, we are reasonably confident to say that the temperatures in London is about 1 DegC higher than the global average."
   ]
  },
  {
   "cell_type": "markdown",
   "id": "surprising-disclaimer",
   "metadata": {},
   "source": [
    "Since the plot shows that the temperature is trending upwards as time goes for both London and the global average, let's see the correlations against time."
   ]
  },
  {
   "cell_type": "code",
   "execution_count": 13,
   "id": "stuck-hawaiian",
   "metadata": {},
   "outputs": [
    {
     "data": {
      "text/plain": [
       "(SpearmanrResult(correlation=0.6869482336093713, pvalue=6.0947676738124995e-37),\n",
       " SpearmanrResult(correlation=0.7583457767610071, pvalue=6.289497395329186e-49))"
      ]
     },
     "execution_count": 13,
     "metadata": {},
     "output_type": "execute_result"
    }
   ],
   "source": [
    "corr_London = stats.spearmanr(df['moving_avg_London'], df['year'])\n",
    "corr_global = stats.spearmanr(df['moving_avg_global'], df['year'])\n",
    "corr_London, corr_global"
   ]
  },
  {
   "cell_type": "markdown",
   "id": "incorporate-sucking",
   "metadata": {},
   "source": [
    "So we are confident (as p-values are extremely low for a reasonable size dataset) that there are positive correlations between the temperatures and time."
   ]
  },
  {
   "cell_type": "markdown",
   "id": "stuck-tutorial",
   "metadata": {},
   "source": [
    "How about the difference in temperatures between London and the global average? Is this also increasing (meaning London is getting hotter faster than the world average)? The plot isn't that clear in this perspective, so we will need to find out the correlation between difference in temperatures and the time."
   ]
  },
  {
   "cell_type": "code",
   "execution_count": 14,
   "id": "protective-denver",
   "metadata": {},
   "outputs": [
    {
     "data": {
      "text/plain": [
       "SpearmanrResult(correlation=-0.3807980395969675, pvalue=3.184106323432312e-10)"
      ]
     },
     "execution_count": 14,
     "metadata": {},
     "output_type": "execute_result"
    }
   ],
   "source": [
    "diff_t = df['moving_avg_London'] - df['moving_avg_global']\n",
    "corr_diff = stats.spearmanr(diff_t, df['year'])\n",
    "corr_diff"
   ]
  },
  {
   "cell_type": "markdown",
   "id": "scientific-dictionary",
   "metadata": {},
   "source": [
    "So there is in fact a drop in temperature difference between London and the global average, in other words, the increase in global temperature is catching up with that in London, although London has so far taken a lead of around 1 DegC."
   ]
  },
  {
   "cell_type": "markdown",
   "id": "intellectual-click",
   "metadata": {},
   "source": [
    "Let's visualise the correlation between the recorded global and London temperatures:"
   ]
  },
  {
   "cell_type": "code",
   "execution_count": 15,
   "id": "personalized-summit",
   "metadata": {},
   "outputs": [
    {
     "data": {
      "image/png": "[encoded data removed]",
      "text/plain": [
       "<Figure size 432x288 with 1 Axes>"
      ]
     },
     "metadata": {
      "needs_background": "light"
     },
     "output_type": "display_data"
    },
    {
     "data": {
      "image/png": "[encoded data removed]",
      "text/plain": [
       "<Figure size 432x288 with 1 Axes>"
      ]
     },
     "metadata": {
      "needs_background": "light"
     },
     "output_type": "display_data"
    }
   ],
   "source": [
    "plt.scatter(df['moving_avg_global'], df['moving_avg_London'])\n",
    "\n",
    "plt.title('10 year Moving Average Temperature - Correlation Plot')\n",
    "plt.xlabel('T_Global (DegC)')\n",
    "plt.ylabel('T_London (DegC)')\n",
    "\n",
    "plt.show()\n",
    "\n",
    "sns.regplot(x=df['moving_avg_global'], y=df['moving_avg_London']);"
   ]
  },
  {
   "cell_type": "markdown",
   "id": "alternative-welcome",
   "metadata": {},
   "source": [
    "Obviously, there should be a positive correlation between the global and London temperature trends:"
   ]
  },
  {
   "cell_type": "code",
   "execution_count": 16,
   "id": "smoking-sodium",
   "metadata": {},
   "outputs": [
    {
     "data": {
      "text/plain": [
       "SpearmanrResult(correlation=0.8457130171367704, pvalue=5.827402642200563e-71)"
      ]
     },
     "execution_count": 16,
     "metadata": {},
     "output_type": "execute_result"
    }
   ],
   "source": [
    "stats.spearmanr(df['moving_avg_London'], df['moving_avg_global'])"
   ]
  },
  {
   "cell_type": "markdown",
   "id": "contemporary-horse",
   "metadata": {},
   "source": [
    "### Summary"
   ]
  },
  {
   "cell_type": "markdown",
   "id": "effective-candle",
   "metadata": {},
   "source": [
    "The temperatures in London is consistently higher (>= 1 DegC) than the global average. And although both London and global teperatures have been creeping up over the past few hudreads of years, the gap between the two is closing in. There is in fact a drop in temperature difference between London and the global average over the recent years, in other words, the increase in global temperature is catching up with that in London, although London has so far taken a lead of around 1 DegC."
   ]
  },
  {
   "cell_type": "markdown",
   "id": "biblical-impossible",
   "metadata": {},
   "source": [
    "## Insight - Building a Model"
   ]
  },
  {
   "cell_type": "markdown",
   "id": "defensive-baltimore",
   "metadata": {},
   "source": [
    "The above findings suggest that we can use a linear regression model to approximate the relationship between the two temperatures. Use a test size of 20% of the data and see how the linear model performs."
   ]
  },
  {
   "cell_type": "code",
   "execution_count": 17,
   "id": "naval-honey",
   "metadata": {},
   "outputs": [],
   "source": [
    "X_train, X_test, y_train, y_test = train_test_split(df[['moving_avg_global']], df['moving_avg_London'], \n",
    "                                                    test_size=0.2, \n",
    "                                                    random_state=1)"
   ]
  },
  {
   "cell_type": "code",
   "execution_count": 18,
   "id": "environmental-tanzania",
   "metadata": {},
   "outputs": [
    {
     "data": {
      "text/plain": [
       "LinearRegression()"
      ]
     },
     "execution_count": 18,
     "metadata": {},
     "output_type": "execute_result"
    }
   ],
   "source": [
    "lm = LinearRegression()\n",
    "lm.fit(X_train, y_train)"
   ]
  },
  {
   "cell_type": "code",
   "execution_count": 19,
   "id": "powerful-intent",
   "metadata": {},
   "outputs": [
    {
     "data": {
      "text/plain": [
       "0.7301745491797308"
      ]
     },
     "execution_count": 19,
     "metadata": {},
     "output_type": "execute_result"
    }
   ],
   "source": [
    "yhat = lm.predict(X_test)\n",
    "r2_score(y_test, yhat)"
   ]
  },
  {
   "cell_type": "markdown",
   "id": "eastern-aquarium",
   "metadata": {},
   "source": [
    "### Summary"
   ]
  },
  {
   "cell_type": "markdown",
   "id": "informative-depression",
   "metadata": {},
   "source": [
    "An R-Squared score of 0.73 isn't too bad for a single-feature linear regression model. So let's see the linear equation that we can use to approximate London's temperature using the global average (which represents the line in the regplot above). Note that this is a very ideal approximation."
   ]
  },
  {
   "cell_type": "markdown",
   "id": "gothic-refund",
   "metadata": {},
   "source": [
    "$t_{Lond} = w * t_{glob} + b$"
   ]
  },
  {
   "cell_type": "code",
   "execution_count": 20,
   "id": "qualified-covering",
   "metadata": {},
   "outputs": [
    {
     "name": "stdout",
     "output_type": "stream",
     "text": [
      "[0.744235885159557*t_glob + 3.24487084950549]\n"
     ]
    }
   ],
   "source": [
    "w, b = lm.coef_, lm.intercept_\n",
    "t_glob, t_Lond = sympy.symbols('t_glob t_Lond')\n",
    "t_Lond = w * t_glob + b\n",
    "print(t_Lond)"
   ]
  },
  {
   "cell_type": "markdown",
   "id": "weekly-dispute",
   "metadata": {},
   "source": [
    "Thanks for reading through my work. Please kindly leave your feedback.\n",
    "\n",
    "Minjian"
   ]
  }
 ],
 "metadata": {
  "kernelspec": {
   "display_name": "Python 3",
   "language": "python",
   "name": "python3"
  },
  "language_info": {
   "codemirror_mode": {
    "name": "ipython",
    "version": 3
   },
   "file_extension": ".py",
   "mimetype": "text/x-python",
   "name": "python",
   "nbconvert_exporter": "python",
   "pygments_lexer": "ipython3",
   "version": "3.8.5"
  },
  "toc": {
   "base_numbering": 1,
   "nav_menu": {},
   "number_sections": true,
   "sideBar": true,
   "skip_h1_title": false,
   "title_cell": "Table of Contents",
   "title_sidebar": "Contents",
   "toc_cell": false,
   "toc_position": {},
   "toc_section_display": true,
   "toc_window_display": true
  },
  "varInspector": {
   "cols": {
    "lenName": 16,
    "lenType": 16,
    "lenVar": 40
   },
   "kernels_config": {
    "python": {
     "delete_cmd_postfix": "",
     "delete_cmd_prefix": "del ",
     "library": "var_list.py",
     "varRefreshCmd": "print(var_dic_list())"
    },
    "r": {
     "delete_cmd_postfix": ") ",
     "delete_cmd_prefix": "rm(",
     "library": "var_list.r",
     "varRefreshCmd": "cat(var_dic_list()) "
    }
   },
   "position": {
    "height": "407px",
    "left": "8px",
    "right": "20px",
    "top": "608px",
    "width": "346px"
   },
   "types_to_exclude": [
    "module",
    "function",
    "builtin_function_or_method",
    "instance",
    "_Feature"
   ],
   "window_display": true
  }
 },
 "nbformat": 4,
 "nbformat_minor": 5
}
